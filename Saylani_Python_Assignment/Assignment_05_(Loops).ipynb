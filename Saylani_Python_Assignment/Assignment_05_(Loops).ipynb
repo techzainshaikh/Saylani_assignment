{
 "cells": [
  {
   "cell_type": "markdown",
   "id": "15fa11b3-40d9-41d9-9a52-ee6df3ffb325",
   "metadata": {},
   "source": [
    "## Looping Structures 05"
   ]
  },
  {
   "cell_type": "markdown",
   "id": "862a8080-63c4-47a7-86d8-fa3c733f6fa2",
   "metadata": {},
   "source": [
    "1. Write a Python program to print the numbers from 1 to 10 using a for loop."
   ]
  },
  {
   "cell_type": "code",
   "execution_count": 1,
   "id": "e805b161-9e78-4206-bddc-1fe0d9982b91",
   "metadata": {},
   "outputs": [
    {
     "name": "stdout",
     "output_type": "stream",
     "text": [
      "1\n",
      "2\n",
      "3\n",
      "4\n",
      "5\n",
      "6\n",
      "7\n",
      "8\n",
      "9\n",
      "10\n"
     ]
    }
   ],
   "source": [
    "for i in range(1, 11):\n",
    "    print(i)"
   ]
  },
  {
   "cell_type": "markdown",
   "id": "6c9c9caa-6ec5-4943-8fc0-b5fe09809be0",
   "metadata": {},
   "source": [
    "2. Write a Python program to print the numbers from 20 to 1 using a while loop.."
   ]
  },
  {
   "cell_type": "code",
   "execution_count": 2,
   "id": "c3204995-e228-4bf6-b027-5bbac53e82a3",
   "metadata": {},
   "outputs": [
    {
     "name": "stdout",
     "output_type": "stream",
     "text": [
      "20\n",
      "19\n",
      "18\n",
      "17\n",
      "16\n",
      "15\n",
      "14\n",
      "13\n",
      "12\n",
      "11\n",
      "10\n",
      "9\n",
      "8\n",
      "7\n",
      "6\n",
      "5\n",
      "4\n",
      "3\n",
      "2\n",
      "1\n"
     ]
    }
   ],
   "source": [
    "number = 20\n",
    "while number >= 1:\n",
    "    print(number)\n",
    "    number -= 1"
   ]
  },
  {
   "cell_type": "markdown",
   "id": "cfc42e4a-b4b4-48a9-b644-24ebcd8cba12",
   "metadata": {},
   "source": [
    "3. Write a program to print even numbers from 1 to 10."
   ]
  },
  {
   "cell_type": "code",
   "execution_count": 3,
   "id": "21397960-91cc-4da5-92e8-eb943e8994fb",
   "metadata": {},
   "outputs": [
    {
     "name": "stdout",
     "output_type": "stream",
     "text": [
      "2\n",
      "4\n",
      "6\n",
      "8\n",
      "10\n"
     ]
    }
   ],
   "source": [
    "for i in range(1, 11):\n",
    "    if i % 2 == 0:\n",
    "        print(i)"
   ]
  },
  {
   "cell_type": "markdown",
   "id": "ced58f12-ba91-4fdf-ba4a-61524724f836",
   "metadata": {},
   "source": [
    "4. Write a program that prompts the user to enter a number n and prints all the \r\n",
    "numbers from 1 to n."
   ]
  },
  {
   "cell_type": "code",
   "execution_count": 5,
   "id": "9a1498a6-5542-42c3-8eaa-ac3eb86b226f",
   "metadata": {},
   "outputs": [
    {
     "name": "stdin",
     "output_type": "stream",
     "text": [
      "Enter a number:  5\n"
     ]
    },
    {
     "name": "stdout",
     "output_type": "stream",
     "text": [
      "1\n",
      "2\n",
      "3\n",
      "4\n",
      "5\n"
     ]
    }
   ],
   "source": [
    "n = int(input(\"Enter a number: \"))\n",
    "\n",
    "for i in range(1, n + 1):\n",
    "    print(i)"
   ]
  },
  {
   "cell_type": "markdown",
   "id": "ac7d4c59-6495-48b6-9b69-8e0fb1d0a9e7",
   "metadata": {},
   "source": [
    "5. Write a program that prompts the user to enter a number n, and then prints all the \r\n",
    "odd numbers between 1 and n."
   ]
  },
  {
   "cell_type": "code",
   "execution_count": 6,
   "id": "c92806aa-281a-4b66-b6e8-db9fadf7ba31",
   "metadata": {},
   "outputs": [
    {
     "name": "stdin",
     "output_type": "stream",
     "text": [
      "Enter a number:  10\n"
     ]
    },
    {
     "name": "stdout",
     "output_type": "stream",
     "text": [
      "1\n",
      "3\n",
      "5\n",
      "7\n",
      "9\n"
     ]
    }
   ],
   "source": [
    "n = int(input(\"Enter a number: \"))\n",
    "\n",
    "for i in range(1, n + 1):\n",
    "    if i % 2 != 0:\n",
    "        print(i)"
   ]
  },
  {
   "cell_type": "markdown",
   "id": "0d5e557e-8b81-4236-8742-2b2566113ebc",
   "metadata": {},
   "source": [
    "6. Write a program that prints 'Happy Birthday!' five times on screen."
   ]
  },
  {
   "cell_type": "code",
   "execution_count": 8,
   "id": "7cfeb6e2-cd7c-455b-9e21-1c9f19c8952c",
   "metadata": {},
   "outputs": [
    {
     "name": "stdout",
     "output_type": "stream",
     "text": [
      "Happy Birthday!\n",
      "Happy Birthday!\n",
      "Happy Birthday!\n",
      "Happy Birthday!\n",
      "Happy Birthday!\n"
     ]
    }
   ],
   "source": [
    "for _ in range(5):\n",
    "    print(\"Happy Birthday!\")\n"
   ]
  },
  {
   "cell_type": "markdown",
   "id": "d6e5c722-a762-4537-8c84-307a41f5d425",
   "metadata": {},
   "source": [
    " 7. Write a program that takes a number n as input from the user and generates the first \n",
    "n terms of the series formed by squaring the natural numbers.<br> \n",
    "Sample output<br> \n",
    "- Enter a number: 6 \n",
    "- The first 6 terms of the series are: \n",
    "- 1 4 9 16 25 36"
   ]
  },
  {
   "cell_type": "code",
   "execution_count": 9,
   "id": "9da58994-4a94-4c81-a880-8944596e1f38",
   "metadata": {},
   "outputs": [
    {
     "name": "stdin",
     "output_type": "stream",
     "text": [
      "Enter a number:  12\n"
     ]
    },
    {
     "name": "stdout",
     "output_type": "stream",
     "text": [
      "The first 12 terms of the series are:\n",
      "1 4 9 16 25 36 49 64 81 100 121 144 "
     ]
    }
   ],
   "source": [
    "n = int(input(\"Enter a number: \"))\n",
    "\n",
    "print(f\"The first {n} terms of the series are:\")\n",
    "for i in range(1, n + 1):\n",
    "    print(i ** 2, end=' ')"
   ]
  },
  {
   "cell_type": "markdown",
   "id": "1898e2da-c495-497b-afa7-4ed811d18632",
   "metadata": {},
   "source": [
    "8. Write a program that prompts the user to input a number and prints its multiplication \r\n",
    "table."
   ]
  },
  {
   "cell_type": "code",
   "execution_count": 10,
   "id": "53f02e17-4b48-4dd9-b684-1fa8c170a6ef",
   "metadata": {},
   "outputs": [
    {
     "name": "stdin",
     "output_type": "stream",
     "text": [
      "Enter a number:  10\n"
     ]
    },
    {
     "name": "stdout",
     "output_type": "stream",
     "text": [
      "Multiplication table for 10:\n",
      "10 x 1 = 10\n",
      "10 x 2 = 20\n",
      "10 x 3 = 30\n",
      "10 x 4 = 40\n",
      "10 x 5 = 50\n",
      "10 x 6 = 60\n",
      "10 x 7 = 70\n",
      "10 x 8 = 80\n",
      "10 x 9 = 90\n",
      "10 x 10 = 100\n"
     ]
    }
   ],
   "source": [
    "number = int(input(\"Enter a number: \"))\n",
    "\n",
    "print(f\"Multiplication table for {number}:\")\n",
    "for i in range(1, 11):\n",
    "    print(f\"{number} x {i} = {number * i}\")"
   ]
  },
  {
   "cell_type": "markdown",
   "id": "296298f9-c47d-4b06-8a57-24da03c90693",
   "metadata": {},
   "source": [
    "9. Write a Python program to print the first 8 terms of an arithmetic progression starting \n",
    "with 3 and having a common difference of 4.<br> \n",
    "The program should output the following sequence: \n",
    "3 7 11 15 19 23 27 31"
   ]
  },
  {
   "cell_type": "code",
   "execution_count": 11,
   "id": "b3ed3e2c-6cbe-4b15-9366-b71673dc7b44",
   "metadata": {},
   "outputs": [
    {
     "name": "stdout",
     "output_type": "stream",
     "text": [
      "3 7 11 15 19 23 27 31 "
     ]
    }
   ],
   "source": [
    "first_term = 3\n",
    "common_difference = 4\n",
    "number_of_terms = 8\n",
    "\n",
    "for i in range(number_of_terms):\n",
    "    term = first_term + i * common_difference\n",
    "    print(term, end=' ')"
   ]
  },
  {
   "cell_type": "markdown",
   "id": "05d0a9c8-ca48-4af5-842e-217c5c038864",
   "metadata": {},
   "source": [
    "10. Write a Python program to print the first 6 terms of a geometric sequence starting \r\n",
    "with 2 and having a common ratio of 3<br>. \r\n",
    "The program should output the following sequence: \r\n",
    "2 6 18 54 162 486"
   ]
  },
  {
   "cell_type": "code",
   "execution_count": 12,
   "id": "69a5ea53-4287-42ce-9408-698e6b43bcfc",
   "metadata": {},
   "outputs": [
    {
     "name": "stdout",
     "output_type": "stream",
     "text": [
      "2 6 18 54 162 486 "
     ]
    }
   ],
   "source": [
    "first_term = 2\n",
    "common_ratio = 3\n",
    "number_of_terms = 6\n",
    "\n",
    "term = first_term\n",
    "for _ in range(number_of_terms):\n",
    "    print(term, end=' ')\n",
    "    term *= common_ratio"
   ]
  },
  {
   "cell_type": "markdown",
   "id": "5e31accd-4557-4b14-91a0-8cfe469adfb5",
   "metadata": {},
   "source": [
    "11. Write a program that asks the user for a positive integer value. The program should \r\n",
    "calculate the sum of all the integers from 1 up to the number entered. For example, if \r\n",
    "the user enters 20, the loop will find the sum of 1, 2, 3, 4, ... 20."
   ]
  },
  {
   "cell_type": "code",
   "execution_count": 18,
   "id": "b07e1411-3c95-434a-a06d-04eb80e0fdd4",
   "metadata": {},
   "outputs": [
    {
     "name": "stdin",
     "output_type": "stream",
     "text": [
      "Enter a positive integer:  10\n"
     ]
    },
    {
     "name": "stdout",
     "output_type": "stream",
     "text": [
      "The sum of all integers from 1 to 10 is: 55\n"
     ]
    }
   ],
   "source": [
    "number = int(input(\"Enter a positive integer: \"))\n",
    "\n",
    "total_sum = 0\n",
    "\n",
    "for i in range(1, number + 1):\n",
    "    total_sum += i\n",
    "\n",
    "print(f\"The sum of all integers from 1 to {number} is: {total_sum}\")"
   ]
  },
  {
   "cell_type": "markdown",
   "id": "a59dd676-8e7d-4cc7-9039-09b2652af6f4",
   "metadata": {},
   "source": [
    "12. write a program that takes a positive integer N as input and calculates the sum of \n",
    "the reciprocals of all numbers from 1 up to N. The program should display the final sum.<br> \n",
    "- Output of the program should be like: \n",
    "- Enter a positive integer: 5 \n",
    "- The sum of reciprocals from 1 to 5 is: 2.28"
   ]
  },
  {
   "cell_type": "code",
   "execution_count": 20,
   "id": "a64e38a4-52a1-42c6-96dc-4c904265f314",
   "metadata": {},
   "outputs": [
    {
     "name": "stdin",
     "output_type": "stream",
     "text": [
      "Enter a positive integer:  15\n"
     ]
    },
    {
     "name": "stdout",
     "output_type": "stream",
     "text": [
      "The sum of reciprocals from 1 to 15 is: 3.32\n"
     ]
    }
   ],
   "source": [
    "N = int(input(\"Enter a positive integer: \"))\n",
    "\n",
    "reciprocal_sum = 0\n",
    "\n",
    "for i in range(1, N + 1):\n",
    "    reciprocal_sum += 1 / i\n",
    "\n",
    "print(f\"The sum of reciprocals from 1 to {N} is: {reciprocal_sum:.2f}\")"
   ]
  },
  {
   "cell_type": "markdown",
   "id": "fba8ebd7-c7c8-4737-a2aa-6fe0d0bbbad9",
   "metadata": {},
   "source": [
    "13. Write a program that prompts the user to enter a number and repeats this process 5 \n",
    "times. The program should accumulate the numbers entered and then display the final \n",
    "running total. \n",
    "- Sample Output: \n",
    "- Enter a number: 10 \n",
    "- Enter a number: 15 \n",
    "- Enter a number: 35 \n",
    "- Enter a number: 40 \n",
    "- Enter a number: 50 \n",
    "- The final running total is: 150"
   ]
  },
  {
   "cell_type": "code",
   "execution_count": 23,
   "id": "6afceb38-478c-47eb-9cd4-ff571727d368",
   "metadata": {},
   "outputs": [
    {
     "name": "stdin",
     "output_type": "stream",
     "text": [
      "Enter a number:  5\n",
      "Enter a number:  8\n",
      "Enter a number:  6\n"
     ]
    },
    {
     "name": "stdout",
     "output_type": "stream",
     "text": [
      "The final running total is: 19\n"
     ]
    }
   ],
   "source": [
    "total_sum = 0\n",
    "\n",
    "for _ in range(3):\n",
    "    number = int(input(\"Enter a number: \"))\n",
    "    total_sum += number\n",
    "\n",
    "print(f\"The final running total is: {total_sum}\")"
   ]
  },
  {
   "cell_type": "markdown",
   "id": "6939dd31-1cb5-496e-80ee-d269c609657b",
   "metadata": {},
   "source": [
    "14. Write a program that prompts the user to enter a positive integer and calculates its \n",
    "factorial. The factorial of a positive integer 'n' is denoted as 'n!' and is calculated by \n",
    "multiplying all the integers from 1 to 'n' together. For example, the factorial of 5 \n",
    "(denoted as 5!) is calculated as 1 x 2 x 3 x 4 x 5.<br> \n",
    "The program should display the factorial value if the input is a positive number, or \n",
    "display a message stating that the factorial does not exist for negative numbers. \n",
    "Additionally, for an input of zero, the program should output that the factorial of 0 is 1."
   ]
  },
  {
   "cell_type": "code",
   "execution_count": 25,
   "id": "31fc28da-d643-4357-bb51-b3e0c992f34e",
   "metadata": {},
   "outputs": [
    {
     "name": "stdin",
     "output_type": "stream",
     "text": [
      "Enter a positive integer:  10\n"
     ]
    },
    {
     "name": "stdout",
     "output_type": "stream",
     "text": [
      "The factorial of 10 is: 3628800\n"
     ]
    }
   ],
   "source": [
    "import math\n",
    "\n",
    "number = int(input(\"Enter a positive integer: \"))\n",
    "\n",
    "if number < 0:\n",
    "    print(\"The factorial does not exist for negative numbers.\")\n",
    "elif number == 0:\n",
    "    print(\"The factorial of 0 is 1.\")\n",
    "else:\n",
    "    factorial = math.factorial(number)\n",
    "    print(f\"The factorial of {number} is: {factorial}\")"
   ]
  },
  {
   "cell_type": "markdown",
   "id": "5b4bd3fc-b2be-4321-a0b3-1d2440e32418",
   "metadata": {},
   "source": [
    "15. Write a Python program that prompts the user to enter a base number and an \n",
    "exponent, and then calculates the power of the base to the exponent. The program \n",
    "should not use the exponentiation operator (**) or the math.pow() function. The \n",
    "program should handle both positive and negative exponents."
   ]
  },
  {
   "cell_type": "code",
   "execution_count": 27,
   "id": "98efe7d4-cafd-4e58-983c-f3cab30f93cc",
   "metadata": {},
   "outputs": [
    {
     "name": "stdin",
     "output_type": "stream",
     "text": [
      "Enter the base number:  20\n",
      "Enter the exponent:  6\n"
     ]
    },
    {
     "name": "stdout",
     "output_type": "stream",
     "text": [
      "20.0 raised to the power of 6 is: 64000000.0\n"
     ]
    }
   ],
   "source": [
    "base = float(input(\"Enter the base number: \"))\n",
    "exponent = int(input(\"Enter the exponent: \"))\n",
    "\n",
    "def power(base, exponent):\n",
    "    if exponent > 0:\n",
    "        result = 1\n",
    "        for _ in range(exponent):\n",
    "            result *= base\n",
    "        return result\n",
    "    elif exponent < 0:\n",
    "        result = 1\n",
    "        for _ in range(-exponent):\n",
    "            result *= base\n",
    "        return 1 / result\n",
    "    else:\n",
    "        return 1\n",
    "\n",
    "result = power(base, exponent)\n",
    "print(f\"{base} raised to the power of {exponent} is: {result}\")"
   ]
  }
 ],
 "metadata": {
  "kernelspec": {
   "display_name": "Python 3 (ipykernel)",
   "language": "python",
   "name": "python3"
  },
  "language_info": {
   "codemirror_mode": {
    "name": "ipython",
    "version": 3
   },
   "file_extension": ".py",
   "mimetype": "text/x-python",
   "name": "python",
   "nbconvert_exporter": "python",
   "pygments_lexer": "ipython3",
   "version": "3.11.7"
  }
 },
 "nbformat": 4,
 "nbformat_minor": 5
}
