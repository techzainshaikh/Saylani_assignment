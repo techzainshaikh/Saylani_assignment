{
 "cells": [
  {
   "cell_type": "markdown",
   "metadata": {},
   "source": [
    "# Part -1 Python Basics (Variables)"
   ]
  },
  {
   "cell_type": "markdown",
   "metadata": {},
   "source": [
    "1. Print Your Name with your Father name and Date of birth using suitable escape sequence charactor"
   ]
  },
  {
   "cell_type": "code",
   "execution_count": 1,
   "metadata": {},
   "outputs": [],
   "source": [
    "my_name = \"M Zain ul Abideen\"\n",
    "father_name = \"Nadeem Ahmad\"\n",
    "date_of_birth = \"25 Jun 2003\""
   ]
  },
  {
   "cell_type": "code",
   "execution_count": 2,
   "metadata": {},
   "outputs": [
    {
     "name": "stdout",
     "output_type": "stream",
     "text": [
      "My Name: M Zain ul Abideen\n",
      "Father Name: Nadeem Ahmad\n",
      "Date of Birth: 25 Jun 2003\n"
     ]
    }
   ],
   "source": [
    "print(\"My Name: \" + my_name + \"\\nFather Name: \" + father_name + \"\\nDate of Birth: \" + date_of_birth)"
   ]
  },
  {
   "cell_type": "markdown",
   "metadata": {},
   "source": [
    "2. Write your small bio using variables and print it using print function"
   ]
  },
  {
   "cell_type": "code",
   "execution_count": 4,
   "metadata": {},
   "outputs": [],
   "source": [
    "my_intro = '''I am a computer science undergraduate student.\n",
    "I am passionate about coding and technology.\n",
    "I aspire to become a software engineer.'''"
   ]
  },
  {
   "cell_type": "code",
   "execution_count": 5,
   "metadata": {},
   "outputs": [
    {
     "name": "stdout",
     "output_type": "stream",
     "text": [
      "I am a computer science undergraduate student.\n",
      "I am passionate about coding and technology.\n",
      "I aspire to become a software engineer.\n"
     ]
    }
   ],
   "source": [
    "print(my_intro)"
   ]
  },
  {
   "cell_type": "markdown",
   "metadata": {},
   "source": [
    "3. Write a program in which use all the operators we can use in Python"
   ]
  },
  {
   "cell_type": "code",
   "execution_count": 15,
   "metadata": {},
   "outputs": [
    {
     "name": "stdout",
     "output_type": "stream",
     "text": [
      "Arithmetic Operators:\n",
      "Addition: 13\n",
      "Subtraction: 7\n",
      "Multiplication: 30\n",
      "Division: 3.3333333333333335\n",
      "Floor Division: 3\n",
      "Modulus: 1\n",
      "Exponentiation: 1000\n",
      "\n",
      "Comparison Operators:\n",
      "Equal to: False\n",
      "Not equal to: True\n",
      "Greater than: False\n",
      "Less than: True\n",
      "Greater than or equal to: False\n",
      "Less than or equal to: True\n",
      "\n",
      "Logical Operators:\n",
      "AND: False\n",
      "OR: True\n",
      "NOT: False\n",
      "\n",
      "Initial values:\n",
      "a = 10\n",
      "b = 3\n",
      "\n",
      "After a += b:\n",
      "a = 13\n",
      "\n",
      "After a -= b:\n",
      "a = 10\n",
      "\n",
      "After a *= b:\n",
      "a = 30\n",
      "\n",
      "After a /= b:\n",
      "a = 10.0\n",
      "\n",
      "After a //= b:\n",
      "a = 3.0\n",
      "\n",
      "After a %= b:\n",
      "a = 0.0\n",
      "\n",
      "After a **= b:\n",
      "a = 0.0\n",
      "\n",
      "Identity Operators:\n",
      "is: False\n",
      "is not: True\n",
      "\n"
     ]
    }
   ],
   "source": [
    "# Arithmetic operators\n",
    "a = 10\n",
    "b = 3\n",
    "print(\"Arithmetic Operators:\")\n",
    "print(\"Addition:\", a + b)\n",
    "print(\"Subtraction:\", a - b)\n",
    "print(\"Multiplication:\", a * b)\n",
    "print(\"Division:\", a / b)\n",
    "print(\"Floor Division:\", a // b)\n",
    "print(\"Modulus:\", a % b)\n",
    "print(\"Exponentiation:\", a ** b)\n",
    "print()\n",
    "\n",
    "# Comparison operators\n",
    "x = 5\n",
    "y = 7\n",
    "print(\"Comparison Operators:\")\n",
    "print(\"Equal to:\", x == y)\n",
    "print(\"Not equal to:\", x != y)\n",
    "print(\"Greater than:\", x > y)\n",
    "print(\"Less than:\", x < y)\n",
    "print(\"Greater than or equal to:\", x >= y)\n",
    "print(\"Less than or equal to:\", x <= y)\n",
    "print()\n",
    "\n",
    "# Logical operators\n",
    "p = True\n",
    "q = False\n",
    "print(\"Logical Operators:\")\n",
    "print(\"AND:\", p and q)\n",
    "print(\"OR:\", p or q)\n",
    "print(\"NOT:\", not p)\n",
    "print()\n",
    "\n",
    "# Assignment operators\n",
    "a = 10\n",
    "b = 3\n",
    "print(\"Initial values:\")\n",
    "print(\"a =\", a)\n",
    "print(\"b =\", b)\n",
    "\n",
    "a += b   # a = a + b\n",
    "print(\"\\nAfter a += b:\")\n",
    "print(\"a =\", a)\n",
    "\n",
    "a -= b   # a = a - b\n",
    "print(\"\\nAfter a -= b:\")\n",
    "print(\"a =\", a)\n",
    "\n",
    "a *= b   # a = a * b\n",
    "print(\"\\nAfter a *= b:\")\n",
    "print(\"a =\", a)\n",
    "\n",
    "a /= b   # a = a / b\n",
    "print(\"\\nAfter a /= b:\")\n",
    "print(\"a =\", a)\n",
    "\n",
    "a //= b  # a = a // b\n",
    "print(\"\\nAfter a //= b:\")\n",
    "print(\"a =\", a)\n",
    "\n",
    "a %= b   # a = a % b\n",
    "print(\"\\nAfter a %= b:\")\n",
    "print(\"a =\", a)\n",
    "\n",
    "a **= b  # a = a ** b\n",
    "print(\"\\nAfter a **= b:\")\n",
    "print(\"a =\", a)\n",
    "print()\n",
    "# Identity operators\n",
    "list1 = [1, 2, 3]\n",
    "list2 = [1, 2, 3]\n",
    "print(\"Identity Operators:\")\n",
    "print(\"is:\", list1 is list2)\n",
    "print(\"is not:\", list1 is not list2)\n",
    "print()"
   ]
  },
  {
   "cell_type": "markdown",
   "metadata": {},
   "source": [
    "4. Completes the following steps of small task:\n",
    "    - Mention Marks of English , Islamiat and Maths out of 100 in 3 different variables\n",
    "    - Mention Variable of Total Marks and assign 300 to it\n",
    "    - Calculate Percentage"
   ]
  },
  {
   "cell_type": "code",
   "execution_count": 8,
   "metadata": {},
   "outputs": [],
   "source": [
    "english_marks = 79\n",
    "islamiat_marks = 89\n",
    "maths_marks = 65\n",
    "\n",
    "total_marks = 300\n",
    "\n",
    "obt_marks = english_marks + islamiat_marks + math_marks\n",
    "percentage = (obt_marks/total_marks)*100"
   ]
  },
  {
   "cell_type": "code",
   "execution_count": 15,
   "metadata": {},
   "outputs": [
    {
     "name": "stdout",
     "output_type": "stream",
     "text": [
      "Marks Obtained:\n",
      "English: 79\n",
      "Islamiat: 89\n",
      "Maths: 65\n",
      "Total Obtained Marks: 233 out of 300\n",
      "Percentage: 77.67%\n"
     ]
    }
   ],
   "source": [
    "print(\"Marks Obtained:\")\n",
    "print(f\"English: {english_marks}\")  \n",
    "print(f\"Islamiat: {islamiat_marks}\") \n",
    "print(f\"Maths: {maths_marks}\")  \n",
    "print(f\"Total Obtained Marks: {obt_marks} out of {total_marks}\") \n",
    "print(f\"Percentage: {percentage:.2f}%\")"
   ]
  },
  {
   "cell_type": "markdown",
   "metadata": {},
   "source": [
    "# Part -2 Python Basics (Conditional Statements)"
   ]
  },
  {
   "cell_type": "markdown",
   "metadata": {},
   "source": [
    "1) A company decided to give bonus of 5% to employee if his/her year of service is more than 5 years.\n",
    "Ask user for their salary and year of service and print the net bonus amount."
   ]
  },
  {
   "cell_type": "code",
   "execution_count": 19,
   "metadata": {},
   "outputs": [
    {
     "name": "stdin",
     "output_type": "stream",
     "text": [
      "Enter Down your Salaray:  20500\n",
      "Enter your years of service:  8\n"
     ]
    },
    {
     "name": "stdout",
     "output_type": "stream",
     "text": [
      "Your bonus amount is: 1025.00\n"
     ]
    }
   ],
   "source": [
    "salary = float(input(\"Enter Down your Salaray: \"))\n",
    "service = int(input(\"Enter your years of service: \"))\n",
    "\n",
    "if service > 5:\n",
    "    bonus = 0.05 * salary   #5% = 5 divisible by 100 0.05\n",
    "    print(f\"Your bonus amount is: {bonus:.2f}\")\n",
    "else:\n",
    "    print(\"You are not eligible for a bonus.\")\n",
    "    "
   ]
  },
  {
   "cell_type": "markdown",
   "metadata": {},
   "source": [
    "\n",
    "2) Write a program to check whether a person is eligible for voting or not. (accept age from user) if age is greater than 17 eligible otherwise not eligible"
   ]
  },
  {
   "cell_type": "code",
   "execution_count": 22,
   "metadata": {},
   "outputs": [
    {
     "name": "stdin",
     "output_type": "stream",
     "text": [
      "Enter Your Age:  20\n"
     ]
    },
    {
     "name": "stdout",
     "output_type": "stream",
     "text": [
      "You are eligible for voting.\n"
     ]
    }
   ],
   "source": [
    "person_age = int(input(\"Enter Your Age: \"))\n",
    "\n",
    "if person_age > 17:\n",
    "      print(\"You are eligible for voting.\")\n",
    "else:\n",
    "    print(\"You are not eligible for voting.\")"
   ]
  },
  {
   "cell_type": "markdown",
   "metadata": {},
   "source": [
    "\n",
    "3) Write a program to check whether a number entered by user is even or odd."
   ]
  },
  {
   "cell_type": "code",
   "execution_count": 24,
   "metadata": {},
   "outputs": [
    {
     "name": "stdin",
     "output_type": "stream",
     "text": [
      "Enter Number:  8\n"
     ]
    },
    {
     "name": "stdout",
     "output_type": "stream",
     "text": [
      "The 8 is Even\n"
     ]
    }
   ],
   "source": [
    "num = int(input(\"Enter Number: \"))\n",
    "\n",
    "if num % 2 == 0:\n",
    "    print(f\"The {num} is Even\")\n",
    "else:\n",
    "    print(f\"The {num} is Odd\")"
   ]
  },
  {
   "cell_type": "markdown",
   "metadata": {},
   "source": [
    "4) Write a program to check whether a number is divisible by 7 or not.\n",
    "Show Answer"
   ]
  },
  {
   "cell_type": "code",
   "execution_count": 26,
   "metadata": {},
   "outputs": [
    {
     "name": "stdin",
     "output_type": "stream",
     "text": [
      "Enter Number:  14\n"
     ]
    },
    {
     "name": "stdout",
     "output_type": "stream",
     "text": [
      "The 14 is divisible by 7. \n"
     ]
    }
   ],
   "source": [
    "number = int(input(\"Enter Number: \"))\n",
    "\n",
    "if number % 7 == 0:\n",
    "    print(f\"The {number} is divisible by 7. \")\n",
    "else:\n",
    "    print(f\"The {number} is not divisible by 7. \")"
   ]
  },
  {
   "cell_type": "markdown",
   "metadata": {},
   "source": [
    "5) Write a program to display \n",
    "\"Hello\" if a number entered by user is a multiple of five , otherwise print \"Bye\"."
   ]
  },
  {
   "cell_type": "code",
   "execution_count": 31,
   "metadata": {},
   "outputs": [
    {
     "name": "stdin",
     "output_type": "stream",
     "text": [
      "Enter number:  100\n"
     ]
    },
    {
     "name": "stdout",
     "output_type": "stream",
     "text": [
      "Hello\n"
     ]
    }
   ],
   "source": [
    "numb = int(input(\"Enter number: \"))\n",
    "\n",
    "if numb % 5 == 0:\n",
    "    print(\"Hello\")\n",
    "else:\n",
    "    print(\"Bye\")"
   ]
  },
  {
   "cell_type": "markdown",
   "metadata": {},
   "source": [
    "7) Write a program to display the last digit of a number.\n"
   ]
  },
  {
   "cell_type": "code",
   "execution_count": 32,
   "metadata": {},
   "outputs": [
    {
     "name": "stdin",
     "output_type": "stream",
     "text": [
      "Enter Number:  1234567\n"
     ]
    },
    {
     "name": "stdout",
     "output_type": "stream",
     "text": [
      "The Last Digit of 1234567 is 7 \n"
     ]
    }
   ],
   "source": [
    "Num  = int(input(\"Enter Number: \"))\n",
    "\n",
    "last_digit_num = Num % 10\n",
    "\n",
    "print(f\"The Last Digit of {Num} is {last_digit_num} \")"
   ]
  },
  {
   "cell_type": "markdown",
   "metadata": {},
   "source": [
    "9) Take values of length and breadth of a rectangle from user and print if it is square or rectangle."
   ]
  },
  {
   "cell_type": "code",
   "execution_count": 1,
   "metadata": {},
   "outputs": [
    {
     "name": "stdin",
     "output_type": "stream",
     "text": [
      "Enter the value of length:  12.4\n",
      "Enter the value of breath:  6.3\n"
     ]
    },
    {
     "name": "stdout",
     "output_type": "stream",
     "text": [
      "It is a square.\n"
     ]
    }
   ],
   "source": [
    "length = float(input(\"Enter the value of length: \"))\n",
    "breath = float(input(\"Enter the value of breath: \"))\n",
    "\n",
    "if length == breath:\n",
    "    print(\"It is a square.\")\n",
    "else:\n",
    "    print(\"It is a square.\")"
   ]
  },
  {
   "cell_type": "markdown",
   "metadata": {},
   "source": [
    "10) Take two int values from user and print greatest among them."
   ]
  },
  {
   "cell_type": "code",
   "execution_count": 5,
   "metadata": {},
   "outputs": [
    {
     "name": "stdin",
     "output_type": "stream",
     "text": [
      "Enter the vlaue:  5\n",
      "Enter the vlaue:  8\n"
     ]
    },
    {
     "name": "stdout",
     "output_type": "stream",
     "text": [
      "The Greatest number is: 8\n"
     ]
    }
   ],
   "source": [
    "a = int(input(\"Enter the vlaue: \"))\n",
    "b = int(input(\"Enter the vlaue: \"))\n",
    "\n",
    "if a > b:\n",
    "    print(f\"The Greatest number is: {a}\")\n",
    "elif b > a:\n",
    "     print(f\"The Greatest number is: {b}\")\n",
    "else:\n",
    "    print(\"Both value are equal\")"
   ]
  },
  {
   "cell_type": "markdown",
   "metadata": {},
   "source": [
    "11) A shop will give discount of 10% if the cost of purchased quantity is more than 1000.\n",
    "Ask user for quantity\n",
    "Suppose, one unit will cost 100.\n",
    "Judge and print total cost for user."
   ]
  },
  {
   "cell_type": "code",
   "execution_count": 8,
   "metadata": {},
   "outputs": [
    {
     "name": "stdin",
     "output_type": "stream",
     "text": [
      "Enter the quantity purchased:  1000\n"
     ]
    },
    {
     "name": "stdout",
     "output_type": "stream",
     "text": [
      "Total cost after 10% discount: 90000.00\n"
     ]
    }
   ],
   "source": [
    "cost_per_unit = 100\n",
    "discount = 1000\n",
    "discount_rate = 0.1  \n",
    "\n",
    "quantity = int(input(\"Enter the quantity purchased: \"))\n",
    "\n",
    "\n",
    "total_cost = quantity * cost_per_unit\n",
    "\n",
    "\n",
    "if total_cost > discount:\n",
    "    discount_amount = total_cost * discount_rate\n",
    "    discounted_cost = total_cost - discount_amount\n",
    "    print(f\"Total cost after 10% discount: {discounted_cost:.2f}\")\n",
    "else:\n",
    "    print(f\"Total cost: {total_cost:.2f}\")"
   ]
  },
  {
   "cell_type": "markdown",
   "metadata": {},
   "source": [
    "12) A school has following rules for grading system:\n",
    "\n",
    "a. Below 25 - F\n",
    "\n",
    "b. 25 to 45 - E\n",
    "\n",
    "c. 45 to 50 - D\n",
    "\n",
    "d. 50 to 60 - C\n",
    "\n",
    "e. 60 to 80 - B\n",
    "\n",
    "f. Above 80 - A\n",
    "\n",
    "Ask user to enter marks and print the corresponding grade."
   ]
  },
  {
   "cell_type": "code",
   "execution_count": 11,
   "metadata": {},
   "outputs": [
    {
     "name": "stdin",
     "output_type": "stream",
     "text": [
      "Enter the marks:  90\n"
     ]
    },
    {
     "name": "stdout",
     "output_type": "stream",
     "text": [
      "The grade for marks 90.0 is: A\n"
     ]
    }
   ],
   "source": [
    "marks = float(input(\"Enter the marks: \"))\n",
    "\n",
    "if marks < 25:\n",
    "    grade = 'F'\n",
    "elif marks >= 25 and marks < 45:\n",
    "    grade = 'E'\n",
    "elif marks >= 45 and marks < 50:\n",
    "    grade = 'D'\n",
    "elif marks >= 50 and marks < 60:\n",
    "    grade = 'C'\n",
    "elif marks >= 60 and marks <= 80:\n",
    "    grade = 'B'\n",
    "else:\n",
    "    grade = 'A'\n",
    "\n",
    "print(f\"The grade for marks {marks} is: {grade}\")\n"
   ]
  },
  {
   "cell_type": "markdown",
   "metadata": {},
   "source": [
    "14)A student will not be allowed to sit in exam if his/her attendence is less than 75%.\n",
    "\n",
    "Take following input from user\n",
    "\n",
    "- Number of classes held\n",
    "\n",
    "- Number of classes attended.\n",
    "\n",
    "And print\n",
    "\n",
    "- percentage of class attended\n",
    "\n",
    "- Is student is allowed to sit in exam or not.\n"
   ]
  },
  {
   "cell_type": "code",
   "execution_count": 13,
   "metadata": {},
   "outputs": [
    {
     "name": "stdin",
     "output_type": "stream",
     "text": [
      "Enter the number of classes held:  15\n",
      "Enter the number of classes attended:  12\n"
     ]
    },
    {
     "name": "stdout",
     "output_type": "stream",
     "text": [
      "Percentage of classes attended: 80.00%\n",
      "Student is allowed to sit in the exam.\n"
     ]
    }
   ],
   "source": [
    "classes_held = int(input(\"Enter the number of classes held: \"))\n",
    "classes_attended = int(input(\"Enter the number of classes attended: \"))\n",
    "\n",
    "attendance_percentage = (classes_attended / classes_held) * 100\n",
    "\n",
    "if attendance_percentage >= 75:\n",
    "    allowed = True\n",
    "else:\n",
    "    allowed = False\n",
    "\n",
    "print(f\"Percentage of classes attended: {attendance_percentage:.2f}%\")\n",
    "\n",
    "if allowed:\n",
    "    print(\"Student is allowed to sit in the exam.\")\n",
    "else:\n",
    "    print(\"Student is not allowed to sit in the exam.\")"
   ]
  },
  {
   "cell_type": "markdown",
   "metadata": {},
   "source": [
    "15) Modify the above question to allow student to sit if he/she has medical cause. Ask user if he/she has medical cause or not ( 'Y' or 'N' ) and print accordingly."
   ]
  },
  {
   "cell_type": "code",
   "execution_count": 16,
   "metadata": {},
   "outputs": [
    {
     "name": "stdin",
     "output_type": "stream",
     "text": [
      "Enter the number of classes held:  15\n",
      "Enter the number of classes attended:  6\n",
      "Do you have a medical cause? (Enter 'Y' for Yes, 'N' for No):  n\n"
     ]
    },
    {
     "name": "stdout",
     "output_type": "stream",
     "text": [
      "Percentage of classes attended: 40.00%\n",
      "Student is not allowed to sit in the exam.\n"
     ]
    }
   ],
   "source": [
    "classes_held = int(input(\"Enter the number of classes held: \"))\n",
    "classes_attended = int(input(\"Enter the number of classes attended: \"))\n",
    "medical_cause = input(\"Do you have a medical cause? (Enter 'Y' for Yes, 'N' for No): \")\n",
    "\n",
    "attendance_percentage = (classes_attended / classes_held) * 100\n",
    "\n",
    "if attendance_percentage >= 75 or medical_cause.upper() == 'Y':\n",
    "    allowed = True\n",
    "else:\n",
    "    allowed = False\n",
    "\n",
    "print(f\"Percentage of classes attended: {attendance_percentage:.2f}%\")\n",
    "\n",
    "if allowed:\n",
    "    print(\"Student is allowed to sit in the exam.\")\n",
    "else:\n",
    "    print(\"Student is not allowed to sit in the exam.\")"
   ]
  },
  {
   "cell_type": "markdown",
   "metadata": {},
   "source": [
    "16) Write a program to check if a year is leap year or not.\n",
    "\n",
    "If a year is divisible by 4 then it is leap year but if the year is century year like 2000, 1900, 2100 then it must be divisible by 400."
   ]
  },
  {
   "cell_type": "code",
   "execution_count": 3,
   "metadata": {},
   "outputs": [
    {
     "name": "stdin",
     "output_type": "stream",
     "text": [
      "Enter a year:  2011\n"
     ]
    },
    {
     "name": "stdout",
     "output_type": "stream",
     "text": [
      "2011 is not a leap year.\n"
     ]
    }
   ],
   "source": [
    "year = int(input(\"Enter a year: \"))\n",
    "\n",
    "if year % 4 == 0:\n",
    "    if year % 100 == 0:\n",
    "        if year % 400 == 0:\n",
    "            print(f\"{year} is a leap year.\")\n",
    "        else:\n",
    "            print(f\"{year} is not a leap year.\")\n",
    "    else:\n",
    "        print(f\"{year} is a leap year.\")\n",
    "else:\n",
    "    print(f\"{year} is not a leap year.\")\n"
   ]
  },
  {
   "cell_type": "markdown",
   "metadata": {},
   "source": [
    "17) Ask user to enter age, gender ( M or F ), marital status ( Y or N ) and then using following rules print their place of service.\n",
    "\n",
    "if employee is female, then she will work only in urban areas.\n",
    "\n",
    "if employee is a male and age is in between 20 to 40 then he may work in anywhere\n",
    "\n",
    "if employee is male and age is in between 40 t0 60 then he will work in urban areas only.\n",
    "\n",
    "And any other input of age should print \"ERROR\""
   ]
  },
  {
   "cell_type": "code",
   "execution_count": 6,
   "metadata": {},
   "outputs": [
    {
     "name": "stdin",
     "output_type": "stream",
     "text": [
      "Enter age:  41\n",
      "Enter gender (M or F):  M\n",
      "Enter marital status (Y or N):  Y\n"
     ]
    },
    {
     "name": "stdout",
     "output_type": "stream",
     "text": [
      "Place of service: Urban areas only\n"
     ]
    }
   ],
   "source": [
    "age = int(input(\"Enter age: \"))\n",
    "gender = input(\"Enter gender (M or F): \").upper()\n",
    "marital_status = input(\"Enter marital status (Y or N): \").upper()\n",
    "\n",
    "if gender == 'F':\n",
    "    print(\"Place of service: Urban areas\")\n",
    "elif gender == 'M':\n",
    "    if age >= 20 and age <= 40:\n",
    "        print(\"Place of service: Anywhere\")\n",
    "    elif age > 40 and age <= 60:\n",
    "        print(\"Place of service: Urban areas only\")\n",
    "    else:\n",
    "        print(\"ERROR\")\n",
    "else:\n",
    "    print(\"ERROR\")"
   ]
  },
  {
   "cell_type": "markdown",
   "metadata": {},
   "source": [
    "6) Write a program to calculate the electricity bill (accept number of unit from user) according to the following criteria :\n",
    "     Unit                                                     Price  \n",
    "uptp 100 units                                             no charge\n",
    "Next 200 units                                              Rs 5 per unit\n",
    "After 200 units                                             Rs 10 per unit\n",
    "(For example if input unit is 350 than total bill amount is Rs.3500\n",
    "(For example if input unit is 97 than total bill amount is Rs.0\n",
    "(For example if input unit is 150 than total bill amount is Rs.750"
   ]
  },
  {
   "cell_type": "code",
   "execution_count": 10,
   "metadata": {},
   "outputs": [
    {
     "name": "stdin",
     "output_type": "stream",
     "text": [
      "Enter the number of units consumed:  310\n"
     ]
    },
    {
     "name": "stdout",
     "output_type": "stream",
     "text": [
      "The electricity bill amount is Rs. 600\n"
     ]
    }
   ],
   "source": [
    "units = int(input(\"Enter the number of units consumed: \"))\n",
    "\n",
    "if units <= 100:\n",
    "    bill_amount = 0\n",
    "elif units <= 300:\n",
    "    bill_amount = (units - 100) * 5\n",
    "else:\n",
    "    bill_amount = 100 * 5 + (units - 300) * 10\n",
    "\n",
    "print(f\"The electricity bill amount is Rs. {bill_amount}\")"
   ]
  },
  {
   "cell_type": "markdown",
   "metadata": {},
   "source": [
    "13) Take input of age of 3 people by user and determine oldest and youngest among them."
   ]
  },
  {
   "cell_type": "code",
   "execution_count": 16,
   "metadata": {},
   "outputs": [
    {
     "name": "stdin",
     "output_type": "stream",
     "text": [
      "Enter age of person 1:  15\n",
      "Enter age of person 2:  18\n",
      "Enter age of person 3:  29\n"
     ]
    },
    {
     "name": "stdout",
     "output_type": "stream",
     "text": [
      "The oldest person is 29 years old.\n",
      "The youngest person is 15 years old.\n"
     ]
    }
   ],
   "source": [
    "age1 = int(input(\"Enter age of person 1: \"))\n",
    "age2 = int(input(\"Enter age of person 2: \"))\n",
    "age3 = int(input(\"Enter age of person 3: \"))\n",
    "\n",
    "oldest = max(age1, age2, age3)\n",
    "youngest = min(age1, age2, age3)\n",
    "\n",
    "print(f\"The oldest person is {oldest} years old.\")\n",
    "print(f\"The youngest person is {youngest} years old.\")\n"
   ]
  },
  {
   "cell_type": "code",
   "execution_count": null,
   "metadata": {},
   "outputs": [],
   "source": []
  }
 ],
 "metadata": {
  "kernelspec": {
   "display_name": "Python 3 (ipykernel)",
   "language": "python",
   "name": "python3"
  },
  "language_info": {
   "codemirror_mode": {
    "name": "ipython",
    "version": 3
   },
   "file_extension": ".py",
   "mimetype": "text/x-python",
   "name": "python",
   "nbconvert_exporter": "python",
   "pygments_lexer": "ipython3",
   "version": "3.11.7"
  }
 },
 "nbformat": 4,
 "nbformat_minor": 4
}
