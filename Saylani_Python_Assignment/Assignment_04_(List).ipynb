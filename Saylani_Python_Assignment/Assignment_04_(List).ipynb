{
 "cells": [
  {
   "cell_type": "markdown",
   "id": "3bc55819-8e58-4e89-802f-fbabf25c6253",
   "metadata": {},
   "source": [
    "## List Assignment 04"
   ]
  },
  {
   "cell_type": "markdown",
   "id": "694ccf76-6b7c-490b-b9ef-c73215150279",
   "metadata": {},
   "source": [
    "1. Write a program that accepts a list from user and print the alternate element of list."
   ]
  },
  {
   "cell_type": "code",
   "execution_count": 5,
   "id": "50192c53-b1dd-478e-a21a-186c762b9cb1",
   "metadata": {},
   "outputs": [
    {
     "name": "stdin",
     "output_type": "stream",
     "text": [
      "Enter elements separated by spaces:   apple banana red grape\n"
     ]
    },
    {
     "name": "stdout",
     "output_type": "stream",
     "text": [
      "Alternate elements of the list:\n",
      "apple\n",
      "red\n"
     ]
    }
   ],
   "source": [
    "# Get input from the user\n",
    "user_input = input(\"Enter elements separated by spaces: \")\n",
    "\n",
    "# Convert the input string into a list of elements\n",
    "elements = user_input.split()\n",
    "\n",
    "print(\"Alternate elements of the list:\")\n",
    "for i in range(0, len(elements), 2):\n",
    "    print(elements[i])"
   ]
  },
  {
   "cell_type": "markdown",
   "id": "6ca90c56-43d8-42aa-bfd9-4b6e44141f13",
   "metadata": {},
   "source": [
    "2. Write a program that accepts a list from user. Your program should reverse the content of list and \r\n",
    "display it. Do not use reverse() method."
   ]
  },
  {
   "cell_type": "code",
   "execution_count": 4,
   "id": "d62ae686-401c-47ae-8f4f-cd803a94155c",
   "metadata": {},
   "outputs": [
    {
     "name": "stdin",
     "output_type": "stream",
     "text": [
      "Enter elements separated by spaces:  apple banana red grape\n"
     ]
    },
    {
     "name": "stdout",
     "output_type": "stream",
     "text": [
      "Reversed list:\n",
      "['grape', 'red', 'banana', 'apple']\n"
     ]
    }
   ],
   "source": [
    "user_input = input(\"Enter elements separated by spaces: \")\n",
    "\n",
    "elements = user_input.split()\n",
    "\n",
    "reversed_list = []\n",
    "for item in elements:\n",
    "    reversed_list.insert(0, item)\n",
    "\n",
    "print(\"Reversed list:\")\n",
    "print(reversed_list)"
   ]
  },
  {
   "cell_type": "markdown",
   "id": "8e0cbda2-8198-470b-906a-033283035050",
   "metadata": {},
   "source": [
    " 3. Find and display the largest number of a list without using built-in function max(). Your program \r\n",
    "should ask the user to input values in list from keyboard."
   ]
  },
  {
   "cell_type": "code",
   "execution_count": 6,
   "id": "5c35921a-76fd-466d-bcc2-cd8a49346264",
   "metadata": {},
   "outputs": [
    {
     "name": "stdin",
     "output_type": "stream",
     "text": [
      "Enter numbers separated by spaces:  12 98 100 32\n"
     ]
    },
    {
     "name": "stdout",
     "output_type": "stream",
     "text": [
      "The largest number is: 100\n"
     ]
    }
   ],
   "source": [
    "# Get input from the user\n",
    "user_input = input(\"Enter numbers separated by spaces: \")\n",
    "\n",
    "# Convert the input string into a list of integers\n",
    "numbers = [int(x) for x in user_input.split()]\n",
    "\n",
    "# Initialize the largest number with the first element\n",
    "largest = numbers[0]\n",
    "\n",
    "# Find the largest number in the list\n",
    "for num in numbers:\n",
    "    if num > largest:\n",
    "        largest = num\n",
    "\n",
    "# Display the largest number\n",
    "print(\"The largest number is:\", largest)\n"
   ]
  },
  {
   "cell_type": "markdown",
   "id": "7de57390-4a14-4709-a5dd-1fb207d485b1",
   "metadata": {},
   "source": [
    "4. Write a program that rotates the element of a list so that the element at the first index moves to the \r\n",
    "second index, the element in the second index moves to the third index, etc., and the element in the last \r\n",
    "index moves to the first index."
   ]
  },
  {
   "cell_type": "code",
   "execution_count": 7,
   "id": "1b10dc5f-02f0-4c0c-b889-00ed7b78ed29",
   "metadata": {},
   "outputs": [
    {
     "name": "stdin",
     "output_type": "stream",
     "text": [
      "Enter elements separated by spaces:  apple banana  grape mango\n"
     ]
    },
    {
     "name": "stdout",
     "output_type": "stream",
     "text": [
      "Rotated list:\n",
      "['mango', 'apple', 'banana', 'grape']\n"
     ]
    }
   ],
   "source": [
    "user_input = input(\"Enter elements separated by spaces: \")\n",
    "\n",
    "elements = user_input.split()\n",
    "\n",
    "if len(elements) > 1:\n",
    "    last_element = elements[-1]\n",
    "    for i in range(len(elements) - 1, 0, -1):\n",
    "        elements[i] = elements[i - 1]\n",
    "    elements[0] = last_element\n",
    "\n",
    "print(\"Rotated list:\")\n",
    "print(elements)"
   ]
  },
  {
   "cell_type": "markdown",
   "id": "2294db38-9626-477c-8f1f-0cd87a0be2c2",
   "metadata": {},
   "source": [
    "5. Write a program that input a string and ask user to delete a given word from a string."
   ]
  },
  {
   "cell_type": "code",
   "execution_count": 9,
   "id": "806c3944-dfb2-4266-a661-a9e235481a4a",
   "metadata": {},
   "outputs": [
    {
     "name": "stdin",
     "output_type": "stream",
     "text": [
      "Enter a string:  The Python Programing\n",
      "Enter the word to delete:  The\n"
     ]
    },
    {
     "name": "stdout",
     "output_type": "stream",
     "text": [
      "String after deletion:\n",
      "Python Programing\n"
     ]
    }
   ],
   "source": [
    "# Get the input string from the user\n",
    "input_string = input(\"Enter a string: \")\n",
    "\n",
    "# Get the word to delete from the user\n",
    "word_to_delete = input(\"Enter the word to delete: \")\n",
    "\n",
    "# Split the input string into a list of words\n",
    "words = input_string.split()\n",
    "\n",
    "# Create a new list excluding the word to delete\n",
    "filtered_words = [word for word in words if word != word_to_delete]\n",
    "\n",
    "# Join the filtered words back into a string\n",
    "result_string = ' '.join(filtered_words)\n",
    "\n",
    "# Display the result\n",
    "print(\"String after deletion:\")\n",
    "print(result_string)"
   ]
  },
  {
   "cell_type": "markdown",
   "id": "1be44923-7f7c-4884-8bd9-b132a9dd7487",
   "metadata": {},
   "source": [
    "6. Write a program that reads a string from the user containing a date in the form mm/dd/yyyy. It \r\n",
    "should print the date in the form March 12, 2021."
   ]
  },
  {
   "cell_type": "code",
   "execution_count": 11,
   "id": "3aaef025-ff3d-4303-850a-54d91220179e",
   "metadata": {},
   "outputs": [
    {
     "name": "stdin",
     "output_type": "stream",
     "text": [
      "Enter a date in the format mm/dd/yyyy:  06/25/2003\n"
     ]
    },
    {
     "name": "stdout",
     "output_type": "stream",
     "text": [
      "June 25, 2003\n"
     ]
    }
   ],
   "source": [
    "# Dictionary to map month numbers to month names\n",
    "month_names = {\n",
    "    '01': 'January', '02': 'February', '03': 'March', '04': 'April',\n",
    "    '05': 'May', '06': 'June', '07': 'July', '08': 'August',\n",
    "    '09': 'September', '10': 'October', '11': 'November', '12': 'December'\n",
    "}\n",
    "\n",
    "date_input = input(\"Enter a date in the format mm/dd/yyyy: \")\n",
    "\n",
    "month, day, year = date_input.split('/')\n",
    "\n",
    "# Convert month to month name\n",
    "month_name = month_names.get(month, \"Unknown\")\n",
    "\n",
    "print(f\"{month_name} {int(day)}, {year}\")"
   ]
  },
  {
   "cell_type": "markdown",
   "id": "f9fcda06-68ca-43f2-93eb-833894f87568",
   "metadata": {},
   "source": [
    " 7. Write a program with a function that accepts a string from keyboard and create a new string after \r\n",
    "converting character of each word capitalized. For instance, if the sentence is \"stop and smell the roses.\" \r\n",
    "the output should be \"Stop And Smell The Roses\""
   ]
  },
  {
   "cell_type": "code",
   "execution_count": 14,
   "id": "021c13fa-aed5-4bc2-9127-8192c0a2a70c",
   "metadata": {},
   "outputs": [
    {
     "name": "stdin",
     "output_type": "stream",
     "text": [
      "Enter a sentence:  Phenominal\n"
     ]
    },
    {
     "name": "stdout",
     "output_type": "stream",
     "text": [
      "Capitalized sentence:\n",
      "Phenominal\n"
     ]
    }
   ],
   "source": [
    "def capitalize_words(sentence):\n",
    "    return ' '.join(word.capitalize() for word in sentence.split())\n",
    "\n",
    "input_sentence = input(\"Enter a sentence: \")\n",
    "\n",
    "print(\"Capitalized sentence:\")\n",
    "print(capitalize_words(input_sentence))"
   ]
  },
  {
   "attachments": {
    "64ffa8ff-d31a-4523-ac94-ddf53264bd77.png": {
     "image/png": "[encoded data removed]"
    }
   },
   "cell_type": "markdown",
   "id": "e4088e66-8706-4fd9-ad9b-426693bd1d95",
   "metadata": {},
   "source": [
    "8. Find the sum of each row of matrix of size m x n. For example for the following matrix output will be \n",
    "like this :<br>\n",
    "![image.png](attachment:64ffa8ff-d31a-4523-ac94-ddf53264bd77.png)\n",
    "- Sum of row 1 = 32 \n",
    "- Sum of row 2 = 31 \n",
    "- Sum of row 3 = 63"
   ]
  },
  {
   "cell_type": "code",
   "execution_count": 16,
   "id": "04e1a799-6655-4121-bce8-a438e941726a",
   "metadata": {},
   "outputs": [
    {
     "name": "stdin",
     "output_type": "stream",
     "text": [
      "Enter the number of rows:  5\n",
      "Enter the number of columns:  7\n"
     ]
    },
    {
     "name": "stdout",
     "output_type": "stream",
     "text": [
      "Enter the matrix elements row by row:\n"
     ]
    },
    {
     "name": "stdin",
     "output_type": "stream",
     "text": [
      "Enter row 1 elements separated by spaces:  1 5 7 9\n",
      "Enter row 2 elements separated by spaces:  9 2 7 3\n",
      "Enter row 3 elements separated by spaces:  1 8 2 7\n",
      "Enter row 4 elements separated by spaces:  1 4 7 9\n",
      "Enter row 5 elements separated by spaces:  1 3 6 9 11\n"
     ]
    },
    {
     "name": "stdout",
     "output_type": "stream",
     "text": [
      "Sum of row 1 = 22\n",
      "Sum of row 2 = 21\n",
      "Sum of row 3 = 18\n",
      "Sum of row 4 = 21\n",
      "Sum of row 5 = 30\n"
     ]
    }
   ],
   "source": [
    "def sum_of_rows(matrix):\n",
    "    row_sums = [sum(row) for row in matrix]\n",
    "    return row_sums\n",
    "\n",
    "m = int(input(\"Enter the number of rows: \"))\n",
    "n = int(input(\"Enter the number of columns: \"))\n",
    "\n",
    "matrix = []\n",
    "\n",
    "print(\"Enter the matrix elements row by row:\")\n",
    "for i in range(m):\n",
    "    row = list(map(int, input(f\"Enter row {i + 1} elements separated by spaces: \").split()))\n",
    "    matrix.append(row)\n",
    "\n",
    "row_sums = sum_of_rows(matrix)\n",
    "\n",
    "for i, total in enumerate(row_sums, 1):\n",
    "    print(f\"Sum of row {i} = {total}\")"
   ]
  },
  {
   "cell_type": "markdown",
   "id": "a393f11d-c291-4cfb-a8da-d3044292a089",
   "metadata": {},
   "source": [
    "9. Write a program to add two matrices of size n x m."
   ]
  },
  {
   "cell_type": "code",
   "execution_count": 19,
   "id": "ba4baae4-2d39-43dc-aadd-3b2d452f9f11",
   "metadata": {},
   "outputs": [
    {
     "name": "stdin",
     "output_type": "stream",
     "text": [
      "Enter the number of rows:  1\n",
      "Enter the number of columns:  1\n"
     ]
    },
    {
     "name": "stdout",
     "output_type": "stream",
     "text": [
      "Enter the first matrix:\n"
     ]
    },
    {
     "name": "stdin",
     "output_type": "stream",
     "text": [
      " 7 8 9\n"
     ]
    },
    {
     "name": "stdout",
     "output_type": "stream",
     "text": [
      "Enter the second matrix:\n"
     ]
    },
    {
     "name": "stdin",
     "output_type": "stream",
     "text": [
      " 10 11 12\n"
     ]
    },
    {
     "name": "stdout",
     "output_type": "stream",
     "text": [
      "Sum of the matrices:\n",
      "17 19 21\n"
     ]
    }
   ],
   "source": [
    "# Function to add two matrices\n",
    "def add_matrices(matrix1, matrix2):\n",
    "    return [[matrix1[i][j] + matrix2[i][j] for j in range(len(matrix1[0]))] for i in range(len(matrix1))]\n",
    "\n",
    "n = int(input(\"Enter the number of rows: \"))\n",
    "m = int(input(\"Enter the number of columns: \"))\n",
    "\n",
    "print(\"Enter the first matrix:\")\n",
    "matrix1 = [list(map(int, input().split())) for _ in range(n)]\n",
    "\n",
    "print(\"Enter the second matrix:\")\n",
    "matrix2 = [list(map(int, input().split())) for _ in range(n)]\n",
    "\n",
    "result = add_matrices(matrix1, matrix2)\n",
    "\n",
    "print(\"Sum of the matrices:\")\n",
    "for row in result:\n",
    "    print(' '.join(map(str, row)))"
   ]
  },
  {
   "cell_type": "markdown",
   "id": "cf1210f6-44e5-4419-aea1-e4363ff28a45",
   "metadata": {},
   "source": [
    "10. Write a program to multiply two matrices"
   ]
  },
  {
   "cell_type": "code",
   "execution_count": 20,
   "id": "bff67fe5-429e-4190-84ea-406f0d68079e",
   "metadata": {},
   "outputs": [
    {
     "name": "stdout",
     "output_type": "stream",
     "text": [
      "[58, 64]\n",
      "[139, 154]\n"
     ]
    }
   ],
   "source": [
    "def multiply_matrices(A, B):\n",
    "    num_rows_A = len(A)\n",
    "    num_cols_A = len(A[0])\n",
    "    num_rows_B = len(B)\n",
    "    num_cols_B = len(B[0])\n",
    "    \n",
    "    if num_cols_A != num_rows_B:\n",
    "        raise ValueError(\"Number of columns in A must be equal to number of rows in B\")\n",
    "\n",
    "    result = [[0] * num_cols_B for _ in range(num_rows_A)]\n",
    "\n",
    "    for i in range(num_rows_A):\n",
    "        for j in range(num_cols_B):\n",
    "            for k in range(num_cols_A):\n",
    "                result[i][j] += A[i][k] * B[k][j]\n",
    "\n",
    "    return result\n",
    "\n",
    "A = [\n",
    "    [1, 2, 3],\n",
    "    [4, 5, 6]\n",
    "]\n",
    "\n",
    "B = [\n",
    "    [7, 8],\n",
    "    [9, 10],\n",
    "    [11, 12]\n",
    "]\n",
    "\n",
    "C = multiply_matrices(A, B)\n",
    "\n",
    "for row in C:\n",
    "    print(row)"
   ]
  }
 ],
 "metadata": {
  "kernelspec": {
   "display_name": "Python 3 (ipykernel)",
   "language": "python",
   "name": "python3"
  },
  "language_info": {
   "codemirror_mode": {
    "name": "ipython",
    "version": 3
   },
   "file_extension": ".py",
   "mimetype": "text/x-python",
   "name": "python",
   "nbconvert_exporter": "python",
   "pygments_lexer": "ipython3",
   "version": "3.11.7"
  }
 },
 "nbformat": 4,
 "nbformat_minor": 5
}
