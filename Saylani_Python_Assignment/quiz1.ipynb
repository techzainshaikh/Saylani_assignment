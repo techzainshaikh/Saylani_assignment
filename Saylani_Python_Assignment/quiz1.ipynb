{
 "cells": [
  {
   "cell_type": "markdown",
   "id": "9f7092d7-f701-409d-a94a-2a3d660a5787",
   "metadata": {},
   "source": [
    "Scenario 01: Employee Performance Evaluation\r\n",
    "\r\n",
    "\r\n",
    "In a large corporation, the HR department needs\r\n",
    "to evaluate the performance of employees based on\r\n",
    "their sales records and customer satisfaction ratings.\r\n",
    "They want to identify the top-performing employees\r\n",
    "based on a weighted score that combined \r\n",
    "sales performance and customer satisfaction.\r\n",
    "\r\n",
    "\r\n",
    "Hint: Use List comprehension & Lambda Functions\r\n",
    "\r\n",
    "\r\n",
    "# Sample data: List of tuples containing \r\n",
    "\r\n",
    "employee names, sales figures, and customer \r\n",
    "satisfaction ratings\r\n",
    "\r\n",
    "employees = \r\n",
    "[\r\n",
    "(\"John\", 50000, 4.5),\r\n",
    "\r\n",
    "(\"Alice\", 60000, 4.7),\r\n",
    "\r\n",
    "(\"Bob\", 45000, 4.2),\r\n",
    "    \r\n",
    "(\"Emma\", 55000, 4.6),\r\n",
    "    \r\n",
    "(\"James\", 48000, 4.4)\r\n",
    "]\r\n",
    "\r\n",
    "\r\n",
    "\r\n",
    "# Define weights for sales performance \r\n",
    "and customer satisfaction ratings\r\n",
    "sales_weight = 0.6\r\n",
    "\r\n",
    "satisfaction_weight = 0.4"
   ]
  },
  {
   "cell_type": "code",
   "execution_count": 1,
   "id": "f820e380-31b8-450a-a736-ec37b3ea254e",
   "metadata": {},
   "outputs": [
    {
     "name": "stdout",
     "output_type": "stream",
     "text": [
      "John: 30001.8\n",
      "Alice: 36001.88\n",
      "Bob: 27001.68\n",
      "Emma: 33001.84\n",
      "James: 28801.76\n"
     ]
    }
   ],
   "source": [
    "employees = [ \n",
    "    (\"John\", 50000, 4.5),\n",
    "    (\"Alice\", 60000, 4.7),\n",
    "    (\"Bob\", 45000, 4.2),\n",
    "    (\"Emma\", 55000, 4.6),\n",
    "    (\"James\", 48000, 4.4) \n",
    "]\n",
    "\n",
    "sales_weight = 0.6\n",
    "satisfaction_weight = 0.4\n",
    "\n",
    "perfomance = [(name, (sales * sales_weight) + (satisfaction * satisfaction_weight)) for name, sales, satisfaction in employees]\n",
    "\n",
    "for name, perf in perfomance:\n",
    "    print(f\"{name}: {perf}\")\n"
   ]
  },
  {
   "cell_type": "code",
   "execution_count": null,
   "id": "25a79a37-d492-4d22-865d-e22f9ac0ebc7",
   "metadata": {},
   "outputs": [],
   "source": []
  },
  {
   "cell_type": "markdown",
   "id": "d3f9a947-0e58-4f44-9179-04b6c928f89d",
   "metadata": {},
   "source": [
    "Scenario 02: Calculating Square Roots of Even Numbers\n",
    "\n",
    "\n",
    "\n",
    "Imagine you're tasked with calculating the \n",
    "square roots of even numbers from 1 to 10 using \n",
    "list comprehension and lambda functions."
   ]
  },
  {
   "cell_type": "code",
   "execution_count": 2,
   "id": "37058638-d94a-4e30-b0a8-b1836e6f5a1c",
   "metadata": {},
   "outputs": [
    {
     "name": "stdout",
     "output_type": "stream",
     "text": [
      "[4, 256, 46656, 16777216, 10000000000]\n"
     ]
    }
   ],
   "source": [
    "number = [1,2,3,4,5,6,7,8,9,10]\n",
    "\n",
    "number = [i for i in number if i % 2 == 0 ]\n",
    "sqr = [i**i for i in number]\n",
    "print(sqr)"
   ]
  },
  {
   "cell_type": "code",
   "execution_count": 3,
   "id": "92d8308a-6cc4-4ed8-a3cf-8f168b584072",
   "metadata": {},
   "outputs": [
    {
     "name": "stdout",
     "output_type": "stream",
     "text": [
      "\n",
      "Student Management System\n",
      "1. Add a new student\n",
      "2. View all students\n",
      "3. Exit\n"
     ]
    },
    {
     "name": "stdin",
     "output_type": "stream",
     "text": [
      "Enter your choice:  3\n"
     ]
    },
    {
     "name": "stdout",
     "output_type": "stream",
     "text": [
      "Exiting the system. Goodbye!\n"
     ]
    }
   ],
   "source": [
    "# Define a function to add a new student\n",
    "def add_student(students):\n",
    "    student_id = input(\"Enter student ID: \")\n",
    "    name = input(\"Enter student name: \")\n",
    "    age = input(\"Enter student age: \")\n",
    "    students.append({'ID': student_id, 'Name': name, 'Age': age})\n",
    "    print(f'Student {name} added successfully!')\n",
    "\n",
    "# Define a function to view all students\n",
    "def view_students(students):\n",
    "    if not students:\n",
    "        print(\"No students available.\")\n",
    "    else:\n",
    "        for student in students:\n",
    "            print(f'ID: {student[\"ID\"]}, Name: {student[\"Name\"]}, Age: {student[\"Age\"]}')\n",
    "\n",
    "# Main function to run the menu\n",
    "def menu():\n",
    "    students = []\n",
    "    while True:\n",
    "        print(\"\\nStudent Management System\")\n",
    "        print(\"1. Add a new student\")\n",
    "        print(\"2. View all students\")\n",
    "        print(\"3. Exit\")\n",
    "        choice = input(\"Enter your choice: \")\n",
    "\n",
    "        if choice == '1':\n",
    "            add_student(students)\n",
    "        elif choice == '2':\n",
    "            view_students(students)\n",
    "        elif choice == '3':\n",
    "            print(\"Exiting the system. Goodbye!\")\n",
    "            break\n",
    "        else:\n",
    "            print(\"Invalid choice. Please try again.\")\n",
    "\n",
    "# Run the menu\n",
    "menu()\n"
   ]
  },
  {
   "cell_type": "markdown",
   "id": "054ad27c-9af5-4096-8b12-8febc798fa4d",
   "metadata": {},
   "source": [
    "## Scenario 2: Student Grades\r\n",
    "You are managing student grades using a dictionary. You need to calculate the average grade.take \r\n",
    "atleast 5 Students grades & then calculate the average."
   ]
  },
  {
   "cell_type": "code",
   "execution_count": 5,
   "id": "9fc2ad5e-9e4b-4c80-bc3d-e24507bced5d",
   "metadata": {},
   "outputs": [
    {
     "name": "stdout",
     "output_type": "stream",
     "text": [
      "this is student grade : 81.4\n"
     ]
    }
   ],
   "source": [
    "students_grade = {\n",
    "    \"english\" : 90,\n",
    "    \"urdu\" : 78,\n",
    "    \"physics\" : 80,\n",
    "    \"maths\" : 79,\n",
    "    \"islamiat\" : 80\n",
    "}\n",
    "total_grade = sum(students_grade.values())\n",
    "num_of_student = len(students_grade)\n",
    "total = (total_grade / num_of_student)\n",
    "\n",
    "print(f'this is student grade : {total}')"
   ]
  },
  {
   "cell_type": "code",
   "execution_count": null,
   "id": "03d3f1e7-538f-4c9c-ad12-53420670e9ba",
   "metadata": {},
   "outputs": [],
   "source": []
  },
  {
   "cell_type": "code",
   "execution_count": null,
   "id": "81e6d2a1-0515-4a51-a794-2b2898a765f0",
   "metadata": {},
   "outputs": [],
   "source": []
  },
  {
   "cell_type": "code",
   "execution_count": null,
   "id": "7c291b1d-8320-409c-95cf-f40e8a734258",
   "metadata": {},
   "outputs": [],
   "source": []
  }
 ],
 "metadata": {
  "kernelspec": {
   "display_name": "Python 3 (ipykernel)",
   "language": "python",
   "name": "python3"
  },
  "language_info": {
   "codemirror_mode": {
    "name": "ipython",
    "version": 3
   },
   "file_extension": ".py",
   "mimetype": "text/x-python",
   "name": "python",
   "nbconvert_exporter": "python",
   "pygments_lexer": "ipython3",
   "version": "3.11.7"
  }
 },
 "nbformat": 4,
 "nbformat_minor": 5
}
