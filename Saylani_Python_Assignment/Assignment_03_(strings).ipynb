{
 "cells": [
  {
   "cell_type": "markdown",
   "id": "12630187-7d9c-4271-8077-406f60864c38",
   "metadata": {},
   "source": [
    "## Strings Assignments 03"
   ]
  },
  {
   "cell_type": "markdown",
   "id": "ed6dde9c-e7c8-470e-a99c-a2b0498399da",
   "metadata": {},
   "source": [
    "1. Write a program that accepts a string from user. Your program should count and display number of \r\n",
    "vowels in that string."
   ]
  },
  {
   "cell_type": "code",
   "execution_count": 3,
   "id": "89f58526-7ecf-4606-80c5-b69282ca7bd4",
   "metadata": {},
   "outputs": [
    {
     "name": "stdin",
     "output_type": "stream",
     "text": [
      "Enter String Zain ul abideen\n"
     ]
    },
    {
     "name": "stdout",
     "output_type": "stream",
     "text": [
      "vowels ['a', 'e', 'i', 'u']\n",
      "vowels in count 4\n"
     ]
    }
   ],
   "source": [
    "string = input(\"Enter String\")\n",
    "vowels = ['a','e','i','o','u']\n",
    "results = []\n",
    "\n",
    "for character in vowels:\n",
    "    if character in string:\n",
    "        results.append(character)\n",
    "print(\"vowels\" , results)\n",
    "print(\"vowels in count\" , len(results))"
   ]
  },
  {
   "cell_type": "markdown",
   "id": "cba3c347-5bf3-4458-9f8f-11d16634fe69",
   "metadata": {},
   "source": [
    " 2. Write a program that reads a string from keyboard and display: \r\n",
    "* The number of uppercase letters in the string \r\n",
    "* The number of lowercase letters in the string \r\n",
    "* The number of digits in the string \r\n",
    "* The number of whitespace characters in the string"
   ]
  },
  {
   "cell_type": "code",
   "execution_count": 5,
   "id": "25eebcea-37db-4afd-b59d-e611990cbb7a",
   "metadata": {},
   "outputs": [
    {
     "name": "stdin",
     "output_type": "stream",
     "text": [
      "Enter a string:  Zain ul abideen01\n"
     ]
    },
    {
     "name": "stdout",
     "output_type": "stream",
     "text": [
      "Number of uppercase letters: 1\n",
      "Number of lowercase letters: 12\n",
      "Number of digits: 2\n",
      "Number of whitespace characters: 2\n"
     ]
    }
   ],
   "source": [
    "user_input = input(\"Enter a string: \")\n",
    "\n",
    "uppercase_count = 0\n",
    "lowercase_count = 0\n",
    "digit_count = 0\n",
    "whitespace_count = 0\n",
    "\n",
    "for char in user_input:\n",
    "    if char.isupper():\n",
    "        uppercase_count += 1\n",
    "    elif char.islower():\n",
    "        lowercase_count += 1\n",
    "    elif char.isdigit():\n",
    "        digit_count += 1\n",
    "    elif char.isspace():\n",
    "        whitespace_count += 1\n",
    "\n",
    "print(\"Number of uppercase letters:\", uppercase_count)\n",
    "print(\"Number of lowercase letters:\", lowercase_count)\n",
    "print(\"Number of digits:\", digit_count)\n",
    "print(\"Number of whitespace characters:\", whitespace_count)\n"
   ]
  },
  {
   "cell_type": "markdown",
   "id": "ad4829fd-ca41-48ed-aff9-5b9e06832551",
   "metadata": {},
   "source": [
    " 3. Write a Python program that accepts a string from user. Your program should create and display a \n",
    "new string where the first and last characters have been exchanged.<br>\n",
    "For example if the user enters the string 'HELLO' then new string would be 'OELLH'"
   ]
  },
  {
   "cell_type": "code",
   "execution_count": 9,
   "id": "a1ae2d73-3868-43e9-a3dc-aa07fd41f999",
   "metadata": {},
   "outputs": [
    {
     "name": "stdin",
     "output_type": "stream",
     "text": [
      "Enter a string:  haider\n"
     ]
    },
    {
     "name": "stdout",
     "output_type": "stream",
     "text": [
      "New string with first and last characters swapped: raideh\n"
     ]
    }
   ],
   "source": [
    "user_input = input(\"Enter a string: \")\n",
    "\n",
    "if len(user_input) <= 1:\n",
    "    new_string = user_input\n",
    "else:\n",
    "    new_string = user_input[-1] + user_input[1:-1] + user_input[0]\n",
    "\n",
    "print(\"New string with first and last characters swapped:\", new_string)"
   ]
  },
  {
   "cell_type": "markdown",
   "id": "619ef320-a721-40f5-9452-e17487c4226b",
   "metadata": {},
   "source": [
    " 4. Write a Python program that accepts a string from user. Your program should create a new string in \n",
    "reverse of first string and display it. <br>\n",
    "For example if the user enters the string 'EXAM' then new string would be 'MAXE'"
   ]
  },
  {
   "cell_type": "code",
   "execution_count": 11,
   "id": "98fcff14-1a83-4b0e-a341-0773d78b0538",
   "metadata": {},
   "outputs": [
    {
     "name": "stdin",
     "output_type": "stream",
     "text": [
      "Enter a string:  zaid\n"
     ]
    },
    {
     "name": "stdout",
     "output_type": "stream",
     "text": [
      "Reversed string: diaz\n"
     ]
    }
   ],
   "source": [
    "user_input = input(\"Enter a string: \")\n",
    "\n",
    "reversed_string = user_input[::-1]\n",
    "\n",
    "print(\"Reversed string:\", reversed_string)"
   ]
  },
  {
   "cell_type": "markdown",
   "id": "f766717e-eafe-4a54-a379-e60dce2f5806",
   "metadata": {},
   "source": [
    " 5. Write a Python program that accepts a string from user. Your program should create a new string by \r\n",
    "shifting one position to left<br>\n",
    "For example if the user enters the string 'examination 2021' then new string would be 'xamination \r\n",
    "2021e'."
   ]
  },
  {
   "cell_type": "code",
   "execution_count": 13,
   "id": "c14982dd-b757-401f-9958-3af0a60842b7",
   "metadata": {},
   "outputs": [
    {
     "name": "stdin",
     "output_type": "stream",
     "text": [
      "Enter a string:  prime\n"
     ]
    },
    {
     "name": "stdout",
     "output_type": "stream",
     "text": [
      "String after shifting one position to the left: rimep\n"
     ]
    }
   ],
   "source": [
    "user_input = input(\"Enter a string: \")\n",
    "\n",
    "if len(user_input) > 0:\n",
    "    shifted_string = user_input[1:] + user_input[0]\n",
    "else:\n",
    "    shifted_string = user_input  \n",
    "\n",
    "print(\"String after shifting one position to the left:\", shifted_string)"
   ]
  },
  {
   "cell_type": "markdown",
   "id": "f12b56b5-3a84-4061-803e-84180c5fd1e0",
   "metadata": {},
   "source": [
    " 6. Write a program that asks the user to input his name and print its initials. Assuming that the user \r\n",
    "always types first name, middle name and last name and does not include any unnecessary spaces. \r\n",
    "For example, if the user enters Ajay Kumar Garg the program should display A. K. G. \r\n",
    "Note:Don't use split() method"
   ]
  },
  {
   "cell_type": "code",
   "execution_count": 15,
   "id": "bb41b301-f6a0-4bca-a662-61428ca92372",
   "metadata": {},
   "outputs": [
    {
     "name": "stdin",
     "output_type": "stream",
     "text": [
      "Apna pehla naam, beech wala naam, aur akhri naam likhein:  Zain Shaikh\n"
     ]
    },
    {
     "name": "stdout",
     "output_type": "stream",
     "text": [
      "Aapke initials hain: Z. S.\n"
     ]
    }
   ],
   "source": [
    "full_name = input(\"Apna pehla naam, beech wala naam, aur akhri naam likhein: \")\n",
    "\n",
    "initials = full_name[0].upper() + '.'\n",
    "\n",
    "for i in range(len(full_name)):\n",
    "    if full_name[i] == ' ':\n",
    "        initials += ' ' + full_name[i+1].upper() + '.'\n",
    "\n",
    "print(\"Aapke initials hain:\", initials)\n"
   ]
  },
  {
   "cell_type": "markdown",
   "id": "d252e0bb-afd8-4c20-ba47-81d579a93199",
   "metadata": {},
   "source": [
    "7. A palindrome is a string that reads the same backward as forward. For example, the words dad, \r\n",
    "madam and radar are all palindromes. Write a programs that determines whether the string is a \r\n",
    "palindrom<br>. \r\n",
    "Note: do not use reverse() method"
   ]
  },
  {
   "cell_type": "code",
   "execution_count": 22,
   "id": "d3fe4f7b-e304-4275-af59-e4224d4c8ca1",
   "metadata": {},
   "outputs": [
    {
     "name": "stdin",
     "output_type": "stream",
     "text": [
      "Enter a word:  words\n"
     ]
    },
    {
     "name": "stdout",
     "output_type": "stream",
     "text": [
      "The word is not a palindrome.\n"
     ]
    }
   ],
   "source": [
    "# Ask the user for a string\n",
    "word = input(\"Enter a word: \")\n",
    "\n",
    "is_palindrome = True\n",
    "\n",
    "for i in range(len(word) // 2):\n",
    "    if word[i] != word[-(i + 1)]:\n",
    "        is_palindrome = False\n",
    "        break\n",
    "\n",
    "if is_palindrome:\n",
    "    print(\"The word is a palindrome.\")\n",
    "else:\n",
    "    print(\"The word is not a palindrome.\")\n"
   ]
  },
  {
   "cell_type": "markdown",
   "id": "5602719f-0ee5-44a2-8e59-7c476c7dc8fe",
   "metadata": {},
   "source": [
    "8. Write a program that display following output: \r\n",
    "SHIFT \r\n",
    "HIFTS \r\n",
    "IFTSH \r\n",
    "FTSHI \r\n",
    "TSHIF \r\n",
    "SHIFT"
   ]
  },
  {
   "cell_type": "code",
   "execution_count": 24,
   "id": "62d4d540-3646-4dda-a14f-091b3c75630d",
   "metadata": {},
   "outputs": [
    {
     "name": "stdout",
     "output_type": "stream",
     "text": [
      "SHIFT\n",
      "HIFTS\n",
      "IFTSH\n",
      "FTSHI\n",
      "TSHIF\n",
      "SHIFT\n"
     ]
    }
   ],
   "source": [
    "word = \"SHIFT\"\n",
    "\n",
    "for i in range(len(word)):\n",
    "    shifted_word = word[i:] + word[:i]\n",
    "    print(shifted_word)\n",
    "\n",
    "print(word)"
   ]
  },
  {
   "cell_type": "markdown",
   "id": "c9c1c897-738c-46f2-b7cf-8d7717be7ec9",
   "metadata": {},
   "source": [
    "9. Write a program in python that accepts a string to setup a passwords. Your entered password must \n",
    "meet the following requirements: \n",
    "* The password must be at least eight characters long. \n",
    "* It must contain at least one uppercase letter. \n",
    "* It must contain at least one lowercase letter. \n",
    "* It must contain at least one numeric digit. \n",
    "* Your program should should perform this validation."
   ]
  },
  {
   "cell_type": "code",
   "execution_count": 28,
   "id": "91c277e3-7302-4c20-90ad-444f096e3ae7",
   "metadata": {},
   "outputs": [
    {
     "name": "stdin",
     "output_type": "stream",
     "text": [
      "Enter a password:  Zainulabideen00\n"
     ]
    },
    {
     "name": "stdout",
     "output_type": "stream",
     "text": [
      "Password is valid.\n"
     ]
    }
   ],
   "source": [
    "password = input(\"Enter a password: \")\n",
    "\n",
    "if len(password) < 8:\n",
    "    print(\"Password must be at least eight characters long.\")\n",
    "elif not any(char.isupper() for char in password):\n",
    "    print(\"Password must contain at least one uppercase letter.\")\n",
    "elif not any(char.islower() for char in password):\n",
    "    print(\"Password must contain at least one lowercase letter.\")\n",
    "elif not any(char.isdigit() for char in password):\n",
    "    print(\"Password must contain at least one numeric digit.\")\n",
    "else:\n",
    "    print(\"Password is valid.\")"
   ]
  }
 ],
 "metadata": {
  "kernelspec": {
   "display_name": "Python 3 (ipykernel)",
   "language": "python",
   "name": "python3"
  },
  "language_info": {
   "codemirror_mode": {
    "name": "ipython",
    "version": 3
   },
   "file_extension": ".py",
   "mimetype": "text/x-python",
   "name": "python",
   "nbconvert_exporter": "python",
   "pygments_lexer": "ipython3",
   "version": "3.11.7"
  }
 },
 "nbformat": 4,
 "nbformat_minor": 5
}
