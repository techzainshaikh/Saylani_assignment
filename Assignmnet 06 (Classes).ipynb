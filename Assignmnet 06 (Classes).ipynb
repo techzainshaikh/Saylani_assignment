{
 "cells": [
  {
   "cell_type": "markdown",
   "id": "839eacc1-db43-43f8-adf1-7b1edaf45efa",
   "metadata": {},
   "source": [
    "# Classes"
   ]
  },
  {
   "cell_type": "raw",
   "id": "ce2befcd-61de-43b7-8a11-ad5757606294",
   "metadata": {},
   "source": [
    "1. Write a Python program to create a class representing a Circle. Include methods to calculate its area and perimeter."
   ]
  },
  {
   "cell_type": "code",
   "execution_count": 6,
   "id": "5a9d9653-ca89-4b9a-83c1-a5d98fb3a7db",
   "metadata": {},
   "outputs": [
    {
     "name": "stdout",
     "output_type": "stream",
     "text": [
      "Area: 78.54\n",
      "Perimeter: 31.42\n"
     ]
    }
   ],
   "source": [
    "import math  # Importing math for π (pi)\n",
    "\n",
    "class Circle:\n",
    "    def __init__(self, radius):\n",
    "        self.radius = radius  # Initializing the radius\n",
    "\n",
    "    def area(self):\n",
    "        \"\"\"Calculate and return the area of the circle.\"\"\"\n",
    "        return math.pi * (self.radius ** 2)\n",
    "\n",
    "    def perimeter(self):\n",
    "        \"\"\"Calculate and return the perimeter of the circle.\"\"\"\n",
    "        return 2 * math.pi * self.radius\n",
    "\n",
    "# Example Usage:\n",
    "circle = Circle(5)  # Creating a Circle object with radius 5\n",
    "\n",
    "print(f\"Area: {circle.area():.2f}\")  # Output: Area with 2 decimal places\n",
    "print(f\"Perimeter: {circle.perimeter():.2f}\")  # Output: Perimeter with 2 decimal places\n"
   ]
  },
  {
   "cell_type": "markdown",
   "id": "c378c4f9-151e-4730-8353-921d9e3731c3",
   "metadata": {},
   "source": [
    "2. Write a Python program to create a person class. Include attributes like name, country and date of birth. Implement a method to determine the person's age."
   ]
  },
  {
   "cell_type": "code",
   "execution_count": 7,
   "id": "7242bb41-cb5b-4f1f-ab9c-bba94a6182ee",
   "metadata": {},
   "outputs": [
    {
     "name": "stdout",
     "output_type": "stream",
     "text": [
      "Name: Bilal\n",
      "Country: Pakistan\n",
      "Date of Birth: 2000-10-21\n",
      "Age: 24 years\n"
     ]
    }
   ],
   "source": [
    "from datetime import datetime  # For working with dates\n",
    "\n",
    "class Person:\n",
    "    def __init__(self, name, country, date_of_birth):\n",
    "        self.name = name  # Name of the person\n",
    "        self.country = country  # Country of the person\n",
    "        self.date_of_birth = datetime.strptime(date_of_birth, \"%Y-%m-%d\")  # Parsing date string\n",
    "\n",
    "    def calculate_age(self):\n",
    "        \"\"\"Calculate and return the person's age.\"\"\"\n",
    "        today = datetime.today()  # Current date\n",
    "        age = today.year - self.date_of_birth.year\n",
    "        \n",
    "        # Adjust age if the birthday has not occurred yet this year\n",
    "        if (today.month, today.day) < (self.date_of_birth.month, self.date_of_birth.day):\n",
    "            age -= 1\n",
    "        return age\n",
    "\n",
    "    def display_info(self):\n",
    "        \"\"\"Display person details.\"\"\"\n",
    "        print(f\"Name: {self.name}\")\n",
    "        print(f\"Country: {self.country}\")\n",
    "        print(f\"Date of Birth: {self.date_of_birth.strftime('%Y-%m-%d')}\")\n",
    "        print(f\"Age: {self.calculate_age()} years\")\n",
    "\n",
    "# Example Usage:\n",
    "person = Person(\"Bilal\", \"Pakistan\", \"2000-10-21\")\n",
    "person.display_info()\n"
   ]
  },
  {
   "cell_type": "markdown",
   "id": "6918c55c-adca-47e5-8d04-a31575d18104",
   "metadata": {},
   "source": [
    "3. Write a Python program to create a calculator class. Include methods for basic arithmetic operations."
   ]
  },
  {
   "cell_type": "code",
   "execution_count": 9,
   "id": "41cbfc87-fdb3-46f3-adc8-139f234c955c",
   "metadata": {},
   "outputs": [
    {
     "name": "stdout",
     "output_type": "stream",
     "text": [
      "Addition: 8\n",
      "Subtraction: 2\n",
      "Multiplication: 15\n",
      "Division: 1.6666666666666667\n",
      "Division by zero: Error: Division by zero\n"
     ]
    }
   ],
   "source": [
    "class Calculator:\n",
    "    def add(self, a, b):\n",
    "        return a + b\n",
    "\n",
    "    def sub(self, a, b):\n",
    "        return a - b\n",
    "\n",
    "    def mult(self, a, b):\n",
    "        return a * b\n",
    "\n",
    "    def div(self, a, b):\n",
    "        if b == 0:\n",
    "            return \"Error: Division by zero\"\n",
    "        return a / b\n",
    "\n",
    "if __name__ == \"__main__\":\n",
    "    calc = Calculator()\n",
    "    \n",
    "    print(\"Addition:\", calc.add(5, 3))         # Output: 8\n",
    "    print(\"Subtraction:\", calc.sub(5, 3)) # Output: 2\n",
    "    print(\"Multiplication:\", calc.mult(5, 3)) # Output: 15\n",
    "    print(\"Division:\", calc.div(5, 3))      # Output: 1.666...\n",
    "    print(\"Division by zero:\", calc.div(5, 0)) # Output: Error: Division by zero\n"
   ]
  },
  {
   "cell_type": "code",
   "execution_count": null,
   "id": "e0e88473-01a3-43e3-8415-996099356b8a",
   "metadata": {},
   "outputs": [],
   "source": []
  }
 ],
 "metadata": {
  "kernelspec": {
   "display_name": "Python 3 (ipykernel)",
   "language": "python",
   "name": "python3"
  },
  "language_info": {
   "codemirror_mode": {
    "name": "ipython",
    "version": 3
   },
   "file_extension": ".py",
   "mimetype": "text/x-python",
   "name": "python",
   "nbconvert_exporter": "python",
   "pygments_lexer": "ipython3",
   "version": "3.11.7"
  }
 },
 "nbformat": 4,
 "nbformat_minor": 5
}
